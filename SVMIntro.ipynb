{
 "cells": [
  {
   "cell_type": "markdown",
   "metadata": {},
   "source": [
    "# Support Vector Machine\n",
    "\n",
    "![http://docs.opencv.org/_images/optimal-hyperplane.png](http://docs.opencv.org/_images/optimal-hyperplane.png)\n",
    "\n"
   ]
  },
  {
   "cell_type": "markdown",
   "metadata": {},
   "source": [
    "They are an evolved form of the Perceptron.\n",
    "\n",
    "See this link:  http://www.tristanfletcher.co.uk/SVM%20Explained.pdf  for a nice paper (first 10 pages) that goes into the math.  Also here for the scikit-learn page:  http://scikit-learn.org/stable/modules/svm.html#kernel-functions\n",
    "\n",
    "\n"
   ]
  },
  {
   "cell_type": "code",
   "execution_count": 1,
   "metadata": {
    "collapsed": false
   },
   "outputs": [],
   "source": [
    "%matplotlib inline\n",
    "import pandas as pd\n",
    "import numpy as np\n",
    "import matplotlib.pyplot as plt\n",
    "\n",
    "from sklearn.linear_model import Perceptron\n",
    "from sklearn.svm import SVC\n",
    "from sklearn.cross_validation import train_test_split\n",
    "from sklearn.metrics import confusion_matrix, classification_report\n",
    "\n",
    "import warnings\n",
    "warnings.filterwarnings('ignore')"
   ]
  },
  {
   "cell_type": "code",
   "execution_count": 2,
   "metadata": {
    "collapsed": false
   },
   "outputs": [],
   "source": [
    "df = pd.read_csv('mystery.csv',header=None)\n",
    "mdata = df[[0,1]].values\n",
    "cats = df[2].values\n",
    "\n",
    "Xtrain, Xtest, Ctrain, Ctest = train_test_split(mdata, cats)"
   ]
  },
  {
   "cell_type": "code",
   "execution_count": 3,
   "metadata": {
    "collapsed": false
   },
   "outputs": [
    {
     "data": {
      "text/plain": [
       "SVC(C=1.0, cache_size=200, class_weight=None, coef0=0.0, degree=3, gamma=0.0,\n",
       "  kernel='rbf', max_iter=-1, probability=False, random_state=None,\n",
       "  shrinking=True, tol=0.001, verbose=False)"
      ]
     },
     "execution_count": 3,
     "metadata": {},
     "output_type": "execute_result"
    }
   ],
   "source": [
    "classifier = SVC()\n",
    "classifier.fit(Xtrain,Ctrain)"
   ]
  },
  {
   "cell_type": "code",
   "execution_count": null,
   "metadata": {
    "collapsed": true
   },
   "outputs": [],
   "source": []
  },
  {
   "cell_type": "code",
   "execution_count": 4,
   "metadata": {
    "collapsed": false
   },
   "outputs": [
    {
     "name": "stdout",
     "output_type": "stream",
     "text": [
      "             precision    recall  f1-score   support\n",
      "\n",
      "         -1       1.00      0.93      0.97        30\n",
      "          1       0.91      1.00      0.95        20\n",
      "\n",
      "avg / total       0.96      0.96      0.96        50\n",
      "\n"
     ]
    }
   ],
   "source": [
    "Cpred = classifier.predict(Xtest)\n",
    "print(classification_report(Ctest,Cpred))"
   ]
  },
  {
   "cell_type": "markdown",
   "metadata": {},
   "source": [
    "## Compare the performance of the Perceptron and the SVM on the iris and digits data"
   ]
  },
  {
   "cell_type": "markdown",
   "metadata": {},
   "source": [
    "<h4>Iris</h4>"
   ]
  },
  {
   "cell_type": "code",
   "execution_count": 47,
   "metadata": {
    "collapsed": false
   },
   "outputs": [
    {
     "name": "stdout",
     "output_type": "stream",
     "text": [
      "Keys =  dict_keys(['DESCR', 'target', 'data', 'feature_names', 'target_names'])\n",
      "             precision    recall  f1-score   support\n",
      "\n",
      "          0       1.00      1.00      1.00        11\n",
      "          1       0.93      1.00      0.97        14\n",
      "          2       1.00      0.92      0.96        13\n",
      "\n",
      "avg / total       0.98      0.97      0.97        38\n",
      "\n"
     ]
    }
   ],
   "source": [
    "from sklearn import datasets\n",
    "from sklearn.linear_model import Perceptron\n",
    "from sklearn.cross_validation import train_test_split\n",
    "from sklearn.metrics import confusion_matrix, classification_report\n",
    "\n",
    "iris = datasets.load_iris()\n",
    "print(\"Keys = \", iris.keys())\n",
    "X, y = iris.data, iris.target\n",
    "Xtrain, Xtest, ytrain, ytest = train_test_split(X, y)\n",
    "\n",
    "classifierIris = SVC()\n",
    "classifierIris.fit(Xtrain,ytrain)\n",
    "ypred = classifierIris.predict(Xtest)\n",
    "print(classification_report(ytest,ypred))"
   ]
  },
  {
   "cell_type": "markdown",
   "metadata": {},
   "source": []
  },
  {
   "cell_type": "code",
   "execution_count": null,
   "metadata": {
    "collapsed": false
   },
   "outputs": [],
   "source": []
  },
  {
   "cell_type": "markdown",
   "metadata": {},
   "source": [
    "<h4>Digits</h4>"
   ]
  },
  {
   "cell_type": "code",
   "execution_count": 57,
   "metadata": {
    "collapsed": false
   },
   "outputs": [
    {
     "name": "stdout",
     "output_type": "stream",
     "text": [
      "Keys =  dict_keys(['DESCR', 'target_names', 'target', 'data', 'images'])\n",
      "             precision    recall  f1-score   support\n",
      "\n",
      "          0       1.00      0.68      0.81        40\n",
      "          1       1.00      0.63      0.77        43\n",
      "          2       1.00      0.44      0.61        43\n",
      "          3       0.19      1.00      0.32        45\n",
      "          4       1.00      0.38      0.55        50\n",
      "          5       1.00      0.36      0.53        50\n",
      "          6       1.00      0.65      0.79        52\n",
      "          7       1.00      0.88      0.93        40\n",
      "          8       1.00      0.60      0.75        40\n",
      "          9       1.00      0.26      0.41        47\n",
      "\n",
      "avg / total       0.92      0.58      0.64       450\n",
      "\n"
     ]
    }
   ],
   "source": [
    "from sklearn import datasets\n",
    "digits = datasets.load_digits()\n",
    "\n",
    "print(\"Keys = \", digits.keys())\n",
    "a, b = digits.data, digits.target\n",
    "atrain, atest, btrain, btest = train_test_split(a, b)\n",
    "\n",
    "classifierDigits = SVC()\n",
    "classifierDigits.fit(atrain,btrain)\n",
    "bpred = classifierDigits.predict(atest)\n",
    "print(classification_report(btest,bpred))"
   ]
  },
  {
   "cell_type": "markdown",
   "metadata": {},
   "source": []
  },
  {
   "cell_type": "markdown",
   "metadata": {
    "collapsed": true
   },
   "source": [
    "<h2>GIFs</h2>"
   ]
  },
  {
   "cell_type": "code",
   "execution_count": 19,
   "metadata": {
    "collapsed": false
   },
   "outputs": [],
   "source": [
    "df = pd.read_csv('letterData.csv',header=None)\n",
    "mdata = df.iloc[:,:399].values\n",
    "cats = df[400].values\n",
    "\n",
    "Xtrain, Xtest, Ctrain, Ctest = train_test_split(mdata, cats)"
   ]
  },
  {
   "cell_type": "code",
   "execution_count": 21,
   "metadata": {
    "collapsed": false
   },
   "outputs": [
    {
     "name": "stdout",
     "output_type": "stream",
     "text": [
      "             precision    recall  f1-score   support\n",
      "\n",
      "          A       0.00      0.00      0.00        41\n",
      "          B       0.00      0.00      0.00        48\n",
      "          C       1.00      0.02      0.04        55\n",
      "          D       1.00      0.05      0.09        42\n",
      "          E       0.00      0.00      0.00        47\n",
      "          F       0.01      1.00      0.03        36\n",
      "          G       1.00      0.07      0.13        44\n",
      "          H       1.00      0.03      0.06        62\n",
      "          I       1.00      0.04      0.07        52\n",
      "          J       1.00      0.02      0.05        42\n",
      "          K       1.00      0.02      0.03        64\n",
      "          L       1.00      0.02      0.05        42\n",
      "          M       0.00      0.00      0.00        53\n",
      "          N       1.00      0.04      0.07        53\n",
      "          O       1.00      0.03      0.05        38\n",
      "          P       0.00      0.00      0.00        39\n",
      "          Q       1.00      0.02      0.04        47\n",
      "          R       1.00      0.03      0.07        58\n",
      "          S       1.00      0.02      0.04        51\n",
      "          T       1.00      0.04      0.08        48\n",
      "          U       1.00      0.04      0.07        56\n",
      "          V       1.00      0.02      0.04        55\n",
      "          W       1.00      0.04      0.07        52\n",
      "          X       1.00      0.04      0.08        50\n",
      "          Y       1.00      0.04      0.08        47\n",
      "          Z       1.00      0.04      0.08        50\n",
      "          a       1.00      0.02      0.04        52\n",
      "          b       1.00      0.02      0.05        41\n",
      "          c       1.00      0.10      0.17        42\n",
      "          d       1.00      0.05      0.09        44\n",
      "          e       1.00      0.06      0.11        50\n",
      "          f       1.00      0.02      0.03        58\n",
      "          g       1.00      0.05      0.10        60\n",
      "          h       1.00      0.09      0.17        53\n",
      "          i       0.00      0.00      0.00         2\n",
      "          j       0.00      0.00      0.00         5\n",
      "          k       1.00      0.04      0.07        56\n",
      "          l       0.73      0.20      0.31        55\n",
      "          m       1.00      0.03      0.07        58\n",
      "          n       1.00      0.02      0.04        46\n",
      "          o       1.00      0.04      0.08        50\n",
      "          p       1.00      0.02      0.04        48\n",
      "          q       1.00      0.02      0.04        48\n",
      "          r       1.00      0.02      0.04        48\n",
      "          s       1.00      0.08      0.14        53\n",
      "          t       1.00      0.02      0.03        57\n",
      "          u       1.00      0.04      0.07        55\n",
      "          v       0.00      0.00      0.00        44\n",
      "          w       1.00      0.06      0.12        47\n",
      "          x       1.00      0.04      0.07        53\n",
      "          y       1.00      0.05      0.10        56\n",
      "          z       1.00      0.08      0.15        50\n",
      "\n",
      "avg / total       0.87      0.05      0.07      2503\n",
      "\n"
     ]
    }
   ],
   "source": [
    "classifierLetters = SVC()\n",
    "classifierLetters.fit(Xtrain,Ctrain)\n",
    "cpred = classifierLetters.predict(Xtest)\n",
    "print(classification_report(Ctest,cpred))"
   ]
  },
  {
   "cell_type": "code",
   "execution_count": null,
   "metadata": {
    "collapsed": true
   },
   "outputs": [],
   "source": []
  },
  {
   "cell_type": "code",
   "execution_count": null,
   "metadata": {
    "collapsed": true
   },
   "outputs": [],
   "source": []
  },
  {
   "cell_type": "code",
   "execution_count": null,
   "metadata": {
    "collapsed": true
   },
   "outputs": [],
   "source": []
  }
 ],
 "metadata": {
  "kernelspec": {
   "display_name": "Python 3",
   "language": "python",
   "name": "python3"
  },
  "language_info": {
   "codemirror_mode": {
    "name": "ipython",
    "version": 3
   },
   "file_extension": ".py",
   "mimetype": "text/x-python",
   "name": "python",
   "nbconvert_exporter": "python",
   "pygments_lexer": "ipython3",
   "version": "3.4.0"
  }
 },
 "nbformat": 4,
 "nbformat_minor": 0
}
